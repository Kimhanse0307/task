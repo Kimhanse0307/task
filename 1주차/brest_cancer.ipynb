# This is a placeholder for the original content of the file.

# The file will be moved and its original content and history will be preserved.
