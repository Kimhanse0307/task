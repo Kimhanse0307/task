{
  "nbformat": 4,
  "nbformat_minor": 0,
  "metadata": {
    "colab": {
      "provenance": []
    },
    "kernelspec": {
      "name": "python3",
      "display_name": "Python 3"
    },
    "language_info": {
      "name": "python"
    }
  },
  "cells": [
    {
      "cell_type": "code",
      "execution_count": 1,
      "metadata": {
        "colab": {
          "base_uri": "https://localhost:8080/"
        },
        "id": "c_cNdO39XHya",
        "outputId": "c5eeddb9-85d2-48ca-a69a-eebbb5cc950f"
      },
      "outputs": [
        {
          "output_type": "stream",
          "name": "stdout",
          "text": [
            "   Unnamed: 0  MedInc  HouseAge  AveRooms  AveBedrms  Population  AveOccup  \\\n",
            "0           0  8.3252      41.0  6.984127   1.023810       322.0  2.555556   \n",
            "1           1  8.3014      21.0  6.238137   0.971880      2401.0  2.109842   \n",
            "2           2  7.2574      52.0  8.288136   1.073446       496.0  2.802260   \n",
            "3           3  5.6431      52.0  5.817352   1.073059       558.0  2.547945   \n",
            "4           4  3.8462      52.0  6.281853   1.081081       565.0  2.181467   \n",
            "\n",
            "   Latitude  Longitude  PRICE  \n",
            "0     37.88    -122.23  4.526  \n",
            "1     37.86    -122.22  3.585  \n",
            "2     37.85    -122.24  3.521  \n",
            "3     37.85    -122.25  3.413  \n",
            "4     37.85    -122.25  3.422  \n"
          ]
        }
      ],
      "source": [
        "import pandas as pd\n",
        "from sklearn.model_selection import train_test_split\n",
        "from sklearn.linear_model import LinearRegression\n",
        "from sklearn.tree import DecisionTreeRegressor\n",
        "from sklearn.ensemble import RandomForestRegressor\n",
        "from sklearn.metrics import mean_squared_error, r2_score\n",
        "\n",
        "# -----------------------------\n",
        "# 1) 데이터 불러오기\n",
        "# -----------------------------\n",
        "df = pd.read_csv(\"/content/drive/MyDrive/Colab Notebooks/boston.csv\")   # 업로드한 파일 경로\n",
        "print(df.head())"
      ]
    },
    {
      "cell_type": "code",
      "source": [
        "X = df.drop(columns=[\"PRICE\"])   # 입력 변수들\n",
        "y = df[\"PRICE\"]                  # 타깃: 주택가격\n",
        "\n",
        "# 학습/테스트 분할\n",
        "X_train, X_test, y_train, y_test = train_test_split(\n",
        "    X, y, test_size=0.2, random_state=42\n",
        ")"
      ],
      "metadata": {
        "id": "ghpq3-Umb2NS"
      },
      "execution_count": 2,
      "outputs": []
    },
    {
      "cell_type": "code",
      "source": [
        "lr = LinearRegression()\n",
        "dt = DecisionTreeRegressor(random_state=42)\n",
        "rf = RandomForestRegressor(n_estimators=200, random_state=42)\n",
        "\n",
        "# -----------------------------\n",
        "# 3) 모델 학습\n",
        "# -----------------------------\n",
        "lr.fit(X_train, y_train)\n",
        "dt.fit(X_train, y_train)\n",
        "rf.fit(X_train, y_train)\n",
        "\n",
        "# -----------------------------\n",
        "# 4) 모델 예측\n",
        "# -----------------------------\n",
        "lr_pred = lr.predict(X_test)\n",
        "dt_pred = dt.predict(X_test)\n",
        "rf_pred = rf.predict(X_test)"
      ],
      "metadata": {
        "id": "iM4SOk0h9jTj"
      },
      "execution_count": 3,
      "outputs": []
    },
    {
      "cell_type": "code",
      "source": [
        "import numpy as np\n",
        "from sklearn.metrics import mean_squared_error, r2_score\n",
        "\n",
        "def evaluate(y_true, y_pred):\n",
        "    try:\n",
        "        rmse = mean_squared_error(y_true, y_pred, squared=False)  # 신버전\n",
        "    except TypeError:\n",
        "        rmse = np.sqrt(mean_squared_error(y_true, y_pred))        # 구버전 대안\n",
        "    r2 = r2_score(y_true, y_pred)\n",
        "    return rmse, r2\n",
        "\n",
        "\n",
        "lr_rmse, lr_r2 = evaluate(y_test, lr_pred)\n",
        "dt_rmse, dt_r2 = evaluate(y_test, dt_pred)\n",
        "rf_rmse, rf_r2 = evaluate(y_test, rf_pred)\n",
        "\n",
        "print(\"=== Boston Housing Regression Results ===\")\n",
        "print(f\"Linear Regression : RMSE={lr_rmse:.4f}, R2={lr_r2:.4f}\")\n",
        "print(f\"Decision Tree     : RMSE={dt_rmse:.4f}, R2={dt_r2:.4f}\")\n",
        "print(f\"Random Forest     : RMSE={rf_rmse:.4f}, R2={rf_r2:.4f}\")"
      ],
      "metadata": {
        "colab": {
          "base_uri": "https://localhost:8080/"
        },
        "id": "jdOc-My5A5Rb",
        "outputId": "1b2d8ed9-ed72-48a3-d753-d45a1610e9b6"
      },
      "execution_count": 5,
      "outputs": [
        {
          "output_type": "stream",
          "name": "stdout",
          "text": [
            "=== Boston Housing Regression Results ===\n",
            "Linear Regression : RMSE=0.7448, R2=0.5767\n",
            "Decision Tree     : RMSE=0.6941, R2=0.6323\n",
            "Random Forest     : RMSE=0.4899, R2=0.8168\n"
          ]
        }
      ]
    },
    {
      "cell_type": "code",
      "source": [],
      "metadata": {
        "id": "Jx1RrpKMBN4-"
      },
      "execution_count": null,
      "outputs": []
    }
  ]
}